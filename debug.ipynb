{
 "cells": [
  {
   "cell_type": "code",
   "execution_count": 1,
   "metadata": {},
   "outputs": [
    {
     "name": "stdout",
     "output_type": "stream",
     "text": [
      "Welcome to Ajira Network Console Debug Mode!\n"
     ]
    }
   ],
   "source": [
    "from collections import *\n",
    "from add_device import *\n",
    "q = 1\n",
    "network = defaultdict(lambda:[])\n",
    "\n",
    "def execute_command(command:str):\n",
    "    command = command.split()\n",
    "    if len(command) < 3:\n",
    "        print(\"Error : Invalid command syntax\")\n",
    "        return\n",
    "\n",
    "    if command[0] == \"ADD\":\n",
    "        if command[1] == \"COMPUTER\":\n",
    "            print(add_device(network, command[1], command[2]))\n",
    "        elif command[1] == \"REPEATER\":\n",
    "            print(add_device(network, command[1], command[2]))\n",
    "        else:\n",
    "            print(\"Error: Invalid command syntax\")\n",
    "    \n",
    "    if command[0] == \"SET_DEVICE_STRENGTH\":\n",
    "        print(set_device_strength(network, command[1], command[2]))\n",
    "\n",
    "    if command[0] == \"CONNECT\":\n",
    "        print(connect_device(network, command[1], command[2]))\n",
    "\n",
    "    if command[0] == \"INFO_ROUTE\":\n",
    "        print(info_route(network, command[1], command[2]))\n",
    "\n",
    "\n",
    "\n",
    "\n",
    "\n",
    "\n",
    "print(\"Welcome to Ajira Network Console Debug Mode!\")\n",
    "\n",
    "\n",
    "\n"
   ]
  },
  {
   "cell_type": "code",
   "execution_count": 2,
   "metadata": {},
   "outputs": [
    {
     "name": "stdout",
     "output_type": "stream",
     "text": [
      "Successfully added A1\n"
     ]
    }
   ],
   "source": [
    "execute_command(\"ADD COMPUTER A1\")"
   ]
  },
  {
   "cell_type": "code",
   "execution_count": 3,
   "metadata": {},
   "outputs": [
    {
     "name": "stdout",
     "output_type": "stream",
     "text": [
      "Successfully added A2\n"
     ]
    }
   ],
   "source": [
    "execute_command(\"ADD COMPUTER A2\")"
   ]
  },
  {
   "cell_type": "code",
   "execution_count": 4,
   "metadata": {},
   "outputs": [
    {
     "name": "stdout",
     "output_type": "stream",
     "text": [
      "Successfully added A3\n"
     ]
    }
   ],
   "source": [
    "execute_command(\"ADD COMPUTER A3\")"
   ]
  },
  {
   "cell_type": "code",
   "execution_count": 5,
   "metadata": {},
   "outputs": [
    {
     "name": "stdout",
     "output_type": "stream",
     "text": [
      "Error: That name already exists\n",
      "Successfully added A4\n",
      "Successfully added A5\n"
     ]
    }
   ],
   "source": [
    "execute_command(\"ADD COMPUTER A3\")\n",
    "execute_command(\"ADD COMPUTER A4\")\n",
    "execute_command(\"ADD COMPUTER A5\")"
   ]
  },
  {
   "cell_type": "code",
   "execution_count": 6,
   "metadata": {},
   "outputs": [
    {
     "name": "stdout",
     "output_type": "stream",
     "text": [
      "Successfully added R2\n"
     ]
    }
   ],
   "source": [
    "execute_command(\"ADD REPEATER R2\")"
   ]
  },
  {
   "cell_type": "code",
   "execution_count": 7,
   "metadata": {},
   "outputs": [
    {
     "name": "stdout",
     "output_type": "stream",
     "text": [
      "Successfully Connected!\n",
      "Successfully Connected!\n",
      "Successfully Connected!\n",
      "Successfully Connected!\n"
     ]
    }
   ],
   "source": [
    "execute_command(\"CONNECT R2 A1\")\n",
    "execute_command(\"CONNECT A3 R2\")\n",
    "execute_command(\"CONNECT A4 A3\")\n",
    "execute_command(\"CONNECT A5 A4\")"
   ]
  },
  {
   "cell_type": "code",
   "execution_count": 12,
   "metadata": {},
   "outputs": [
    {
     "name": "stdout",
     "output_type": "stream",
     "text": [
      "> Route found! ['A5', 'A4', 'A3', 'R2', 'A1']\n",
      "Above are the routes found\n"
     ]
    }
   ],
   "source": [
    "execute_command(\"INFO_ROUTE A5 A1\")"
   ]
  }
 ],
 "metadata": {
  "kernelspec": {
   "display_name": "base",
   "language": "python",
   "name": "python3"
  },
  "language_info": {
   "codemirror_mode": {
    "name": "ipython",
    "version": 3
   },
   "file_extension": ".py",
   "mimetype": "text/x-python",
   "name": "python",
   "nbconvert_exporter": "python",
   "pygments_lexer": "ipython3",
   "version": "3.9.13"
  },
  "orig_nbformat": 4,
  "vscode": {
   "interpreter": {
    "hash": "f3881b6ab658275d0b74adf5009ec54694f32fbb9441d829451055d7b0ab1593"
   }
  }
 },
 "nbformat": 4,
 "nbformat_minor": 2
}
